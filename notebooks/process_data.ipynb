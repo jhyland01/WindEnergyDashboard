{
 "cells": [
  {
   "cell_type": "code",
   "execution_count": 3,
   "metadata": {},
   "outputs": [],
   "source": [
    "import pandas as pd\n",
    "\n",
    "# read in the datasets\n",
    "X_test = pd.read_csv(\"../data/multiple_turbine_data/X_test.csv\")\n",
    "y_test = pd.read_csv(\"../data/multiple_turbine_data/y_test.csv\")\n",
    "X_train = pd.read_csv(\"../data/multiple_turbine_data/X_train.csv\")\n",
    "y_train = pd.read_csv(\"../data/multiple_turbine_data/y_train.csv\")"
   ]
  },
  {
   "cell_type": "code",
   "execution_count": 18,
   "metadata": {},
   "outputs": [],
   "source": [
    "# combine the datasets\n",
    "X = pd.concat([X_train, X_test])\n",
    "y = pd.concat([y_train, y_test])\n",
    "# drop the # Date and Time columns\n",
    "y = y.drop(['# Date and time'], axis=1)\n",
    "\n",
    "all_data = pd.concat([X, y], axis=1)"
   ]
  },
  {
   "cell_type": "code",
   "execution_count": 19,
   "metadata": {},
   "outputs": [],
   "source": [
    "# save the combined dataset as parquet\n",
    "all_data.to_parquet(\"../data/multiple_turbine_data/all_data.parquet\")"
   ]
  },
  {
   "cell_type": "code",
   "execution_count": null,
   "metadata": {},
   "outputs": [],
   "source": []
  }
 ],
 "metadata": {
  "kernelspec": {
   "display_name": "windenergydashboard-VeZB0q5H-py3.12",
   "language": "python",
   "name": "python3"
  },
  "language_info": {
   "codemirror_mode": {
    "name": "ipython",
    "version": 3
   },
   "file_extension": ".py",
   "mimetype": "text/x-python",
   "name": "python",
   "nbconvert_exporter": "python",
   "pygments_lexer": "ipython3",
   "version": "3.12.3"
  }
 },
 "nbformat": 4,
 "nbformat_minor": 2
}
