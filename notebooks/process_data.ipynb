{
 "cells": [
  {
   "cell_type": "code",
   "execution_count": 1,
   "metadata": {},
   "outputs": [],
   "source": [
    "import pandas as pd"
   ]
  },
  {
   "cell_type": "code",
   "execution_count": 2,
   "metadata": {},
   "outputs": [],
   "source": [
    "\n",
    "# read in the datasets\n",
    "X_test = pd.read_csv(\"../data/multiple_turbine_data/X_test.csv\")\n",
    "y_test = pd.read_csv(\"../data/multiple_turbine_data/y_test.csv\")\n",
    "X_train = pd.read_csv(\"../data/multiple_turbine_data/X_train.csv\")\n",
    "y_train = pd.read_csv(\"../data/multiple_turbine_data/y_train.csv\")"
   ]
  },
  {
   "cell_type": "code",
   "execution_count": 3,
   "metadata": {},
   "outputs": [],
   "source": [
    "# combine the datasets\n",
    "X = pd.concat([X_train, X_test])\n",
    "y = pd.concat([y_train, y_test])\n",
    "# drop the # Date and Time columns\n",
    "y = y.drop(['# Date and time'], axis=1)\n",
    "\n",
    "all_data = pd.concat([X, y], axis=1)"
   ]
  },
  {
   "cell_type": "code",
   "execution_count": 4,
   "metadata": {},
   "outputs": [
    {
     "data": {
      "text/html": [
       "<div>\n",
       "<style scoped>\n",
       "    .dataframe tbody tr th:only-of-type {\n",
       "        vertical-align: middle;\n",
       "    }\n",
       "\n",
       "    .dataframe tbody tr th {\n",
       "        vertical-align: top;\n",
       "    }\n",
       "\n",
       "    .dataframe thead th {\n",
       "        text-align: right;\n",
       "    }\n",
       "</style>\n",
       "<table border=\"1\" class=\"dataframe\">\n",
       "  <thead>\n",
       "    <tr style=\"text-align: right;\">\n",
       "      <th></th>\n",
       "      <th>DateTime</th>\n",
       "      <th>Turbine</th>\n",
       "      <th>Indicator</th>\n",
       "      <th>Value</th>\n",
       "    </tr>\n",
       "  </thead>\n",
       "  <tbody>\n",
       "    <tr>\n",
       "      <th>0</th>\n",
       "      <td>2016-05-03 09:40:00</td>\n",
       "      <td>1</td>\n",
       "      <td>Wind speed (m/s)</td>\n",
       "      <td>4.728757</td>\n",
       "    </tr>\n",
       "    <tr>\n",
       "      <th>1</th>\n",
       "      <td>2016-05-03 09:50:00</td>\n",
       "      <td>1</td>\n",
       "      <td>Wind speed (m/s)</td>\n",
       "      <td>6.427782</td>\n",
       "    </tr>\n",
       "    <tr>\n",
       "      <th>2</th>\n",
       "      <td>2016-05-03 10:00:00</td>\n",
       "      <td>1</td>\n",
       "      <td>Wind speed (m/s)</td>\n",
       "      <td>5.876329</td>\n",
       "    </tr>\n",
       "    <tr>\n",
       "      <th>3</th>\n",
       "      <td>2016-05-03 10:10:00</td>\n",
       "      <td>1</td>\n",
       "      <td>Wind speed (m/s)</td>\n",
       "      <td>5.676786</td>\n",
       "    </tr>\n",
       "    <tr>\n",
       "      <th>4</th>\n",
       "      <td>2016-05-03 10:20:00</td>\n",
       "      <td>1</td>\n",
       "      <td>Wind speed (m/s)</td>\n",
       "      <td>4.777902</td>\n",
       "    </tr>\n",
       "  </tbody>\n",
       "</table>\n",
       "</div>"
      ],
      "text/plain": [
       "              DateTime Turbine         Indicator     Value\n",
       "0  2016-05-03 09:40:00       1  Wind speed (m/s)  4.728757\n",
       "1  2016-05-03 09:50:00       1  Wind speed (m/s)  6.427782\n",
       "2  2016-05-03 10:00:00       1  Wind speed (m/s)  5.876329\n",
       "3  2016-05-03 10:10:00       1  Wind speed (m/s)  5.676786\n",
       "4  2016-05-03 10:20:00       1  Wind speed (m/s)  4.777902"
      ]
     },
     "execution_count": 4,
     "metadata": {},
     "output_type": "execute_result"
    }
   ],
   "source": [
    "all_data.columns = all_data.columns.str.strip()  # Strip any leading or trailing whitespace\n",
    "\n",
    "# Melt the dataframe without creating a Turbine column first\n",
    "melted_df = all_data.melt(id_vars=['# Date and time'], var_name='Indicator', value_name='Value')\n",
    "\n",
    "# Extract the turbine number from the 'Indicator' column\n",
    "melted_df['Turbine'] = melted_df['Indicator'].str.extract(r'(\\d+)_')\n",
    "\n",
    "# Clean the 'Indicator' column by removing the turbine number prefix\n",
    "melted_df['Indicator'] = melted_df['Indicator'].str.replace(r'^\\d+_', '', regex=True)\n",
    "\n",
    "# Display the transformed dataframe\n",
    "melted_df = melted_df[['# Date and time', 'Turbine', 'Indicator', 'Value']]\n",
    "\n",
    "# rename '# Date and time' to 'DateTime'\n",
    "melted_df.rename(columns={'# Date and time': 'DateTime'}, inplace=True)\n",
    "melted_df.head()\n"
   ]
  },
  {
   "cell_type": "code",
   "execution_count": 12,
   "metadata": {},
   "outputs": [],
   "source": [
    "# change Turbine to int\n",
    "melted_df['Turbine'] = melted_df['Turbine'].astype(int)\n",
    "\n",
    "# change Turbine from 1,2 etc to T01, T02 etc\n",
    "melted_df['Turbine'] = 'T' + melted_df['Turbine'].apply(lambda x: f'{x:02d}')"
   ]
  },
  {
   "cell_type": "code",
   "execution_count": 15,
   "metadata": {},
   "outputs": [],
   "source": [
    "# drop index\n",
    "melted_df.reset_index(drop=True, inplace=True)\n",
    "melted_df.to_parquet(\"../data/multiple_turbine_data/all_data.parquet\", index=False)"
   ]
  },
  {
   "cell_type": "code",
   "execution_count": null,
   "metadata": {},
   "outputs": [],
   "source": []
  }
 ],
 "metadata": {
  "kernelspec": {
   "display_name": "windenergydashboard-VeZB0q5H-py3.12",
   "language": "python",
   "name": "python3"
  },
  "language_info": {
   "codemirror_mode": {
    "name": "ipython",
    "version": 3
   },
   "file_extension": ".py",
   "mimetype": "text/x-python",
   "name": "python",
   "nbconvert_exporter": "python",
   "pygments_lexer": "ipython3",
   "version": "3.12.3"
  }
 },
 "nbformat": 4,
 "nbformat_minor": 2
}
