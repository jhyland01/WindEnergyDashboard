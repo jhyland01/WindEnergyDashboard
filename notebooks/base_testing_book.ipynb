{
 "cells": [
  {
   "cell_type": "code",
   "execution_count": 19,
   "metadata": {},
   "outputs": [],
   "source": [
    "import pandas as pd\n",
    "\n",
    "df = pd.read_parquet('../data/multiple_turbine_data/all_data.parquet')"
   ]
  },
  {
   "cell_type": "code",
   "execution_count": 26,
   "metadata": {},
   "outputs": [],
   "source": [
    "df = pd.read_parquet('../data/multiple_turbine_data/all_data.parquet')\n",
    "\n",
    "# Ensure 'DateTime' is a datetime type and set as the index\n",
    "df['DateTime'] = pd.to_datetime(df['DateTime'])  # Ensure DateTime is datetime type\n",
    "df.set_index('DateTime', inplace=True)  # Set as index\n",
    "\n",
    "# Load metadata\n",
    "meta_data = pd.read_csv('../data/multiple_turbine_data/Penmanshiel_WT_static.csv')\n",
    "\n",
    "# Filter for the last week of data and where Indicator is 'Active Power'\n",
    "# set end date as latest date in the data\n",
    "end_date = df.index.max()\n",
    "# set start date as a week prior\n",
    "start_date = end_date - pd.Timedelta(days=7)\n",
    "filtered_df = df.loc[(df.index >= start_date) & (df.index <= end_date) & (df['Indicator'] == 'Power (kW)')]\n",
    "# aggregate to get the total power for each turbine for the last week\n",
    "filtered_df = filtered_df.groupby(['Turbine', 'Indicator']).mean().reset_index()\n",
    "\n",
    "# Merge with coordinates from meta_data on 'Turbine' and 'Alternative Title'\n",
    "# and keep only columns Turbine\tIndicator\tValue Latitude\tLongitude\n",
    "last_week = filtered_df.merge(meta_data[['Alternative Title', 'Latitude', 'Longitude']], left_on='Turbine', right_on='Alternative Title')"
   ]
  },
  {
   "cell_type": "code",
   "execution_count": 27,
   "metadata": {},
   "outputs": [
    {
     "data": {
      "text/html": [
       "<div>\n",
       "<style scoped>\n",
       "    .dataframe tbody tr th:only-of-type {\n",
       "        vertical-align: middle;\n",
       "    }\n",
       "\n",
       "    .dataframe tbody tr th {\n",
       "        vertical-align: top;\n",
       "    }\n",
       "\n",
       "    .dataframe thead th {\n",
       "        text-align: right;\n",
       "    }\n",
       "</style>\n",
       "<table border=\"1\" class=\"dataframe\">\n",
       "  <thead>\n",
       "    <tr style=\"text-align: right;\">\n",
       "      <th></th>\n",
       "      <th>Turbine</th>\n",
       "      <th>Indicator</th>\n",
       "      <th>Value</th>\n",
       "      <th>Alternative Title</th>\n",
       "      <th>Latitude</th>\n",
       "      <th>Longitude</th>\n",
       "    </tr>\n",
       "  </thead>\n",
       "  <tbody>\n",
       "    <tr>\n",
       "      <th>0</th>\n",
       "      <td>T01</td>\n",
       "      <td>Power (kW)</td>\n",
       "      <td>300.664597</td>\n",
       "      <td>T01</td>\n",
       "      <td>55.902502</td>\n",
       "      <td>-2.306389</td>\n",
       "    </tr>\n",
       "    <tr>\n",
       "      <th>1</th>\n",
       "      <td>T02</td>\n",
       "      <td>Power (kW)</td>\n",
       "      <td>348.224291</td>\n",
       "      <td>T02</td>\n",
       "      <td>55.900008</td>\n",
       "      <td>-2.301268</td>\n",
       "    </tr>\n",
       "    <tr>\n",
       "      <th>2</th>\n",
       "      <td>T04</td>\n",
       "      <td>Power (kW)</td>\n",
       "      <td>302.952829</td>\n",
       "      <td>T04</td>\n",
       "      <td>55.905943</td>\n",
       "      <td>-2.302690</td>\n",
       "    </tr>\n",
       "    <tr>\n",
       "      <th>3</th>\n",
       "      <td>T05</td>\n",
       "      <td>Power (kW)</td>\n",
       "      <td>334.110863</td>\n",
       "      <td>T05</td>\n",
       "      <td>55.903294</td>\n",
       "      <td>-2.298367</td>\n",
       "    </tr>\n",
       "    <tr>\n",
       "      <th>4</th>\n",
       "      <td>T06</td>\n",
       "      <td>Power (kW)</td>\n",
       "      <td>252.469752</td>\n",
       "      <td>T06</td>\n",
       "      <td>55.900951</td>\n",
       "      <td>-2.293967</td>\n",
       "    </tr>\n",
       "  </tbody>\n",
       "</table>\n",
       "</div>"
      ],
      "text/plain": [
       "  Turbine   Indicator       Value Alternative Title   Latitude  Longitude\n",
       "0     T01  Power (kW)  300.664597               T01  55.902502  -2.306389\n",
       "1     T02  Power (kW)  348.224291               T02  55.900008  -2.301268\n",
       "2     T04  Power (kW)  302.952829               T04  55.905943  -2.302690\n",
       "3     T05  Power (kW)  334.110863               T05  55.903294  -2.298367\n",
       "4     T06  Power (kW)  252.469752               T06  55.900951  -2.293967"
      ]
     },
     "execution_count": 27,
     "metadata": {},
     "output_type": "execute_result"
    }
   ],
   "source": [
    "last_week"
   ]
  },
  {
   "cell_type": "code",
   "execution_count": 21,
   "metadata": {},
   "outputs": [
    {
     "data": {
      "text/plain": [
       "array(['Wind speed (m/s)', 'Wind direction (°)', 'Nacelle position (°)',\n",
       "       'Power (kW)', 'Reactive power (kvar)',\n",
       "       'Front bearing temperature (°C)', 'Rear bearing temperature (°C)',\n",
       "       'Stator temperature 1 (°C)', 'Nacelle ambient temperature (°C)',\n",
       "       'Nacelle temperature (°C)', 'Transformer temperature (°C)',\n",
       "       'Generator bearing rear temperature (°C)',\n",
       "       'Generator bearing front temperature (°C)',\n",
       "       'Gear oil temperature (°C)', 'Temp. top box (°C)',\n",
       "       'Hub temperature (°C)', 'Ambient temperature (converter) (°C)',\n",
       "       'Rotor bearing temp (°C)', 'Transformer cell temperature (°C)',\n",
       "       'Voltage L1 / U (V)', 'Voltage L2 / V (V)', 'Voltage L3 / W (V)',\n",
       "       'Current L1 / U (A)', 'Current L2 / V (A)', 'Current L3 / W (A)',\n",
       "       'Rotor speed (RPM)', 'Generator RPM (RPM)', 'Gearbox speed (RPM)',\n",
       "       'Blade angle (pitch position) A (°)',\n",
       "       'Blade angle (pitch position) B (°)',\n",
       "       'Blade angle (pitch position) C (°)', 'Yaw bearing angle (°)',\n",
       "       'Apparent power (kVA)'], dtype=object)"
      ]
     },
     "execution_count": 21,
     "metadata": {},
     "output_type": "execute_result"
    }
   ],
   "source": [
    "df.Indicator.unique()"
   ]
  },
  {
   "cell_type": "code",
   "execution_count": null,
   "metadata": {},
   "outputs": [],
   "source": []
  }
 ],
 "metadata": {
  "kernelspec": {
   "display_name": "windenergydashboard-VeZB0q5H-py3.12",
   "language": "python",
   "name": "python3"
  },
  "language_info": {
   "codemirror_mode": {
    "name": "ipython",
    "version": 3
   },
   "file_extension": ".py",
   "mimetype": "text/x-python",
   "name": "python",
   "nbconvert_exporter": "python",
   "pygments_lexer": "ipython3",
   "version": "3.12.3"
  }
 },
 "nbformat": 4,
 "nbformat_minor": 2
}
